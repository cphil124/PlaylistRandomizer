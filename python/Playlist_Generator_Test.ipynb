{
 "cells": [
  {
   "cell_type": "code",
   "execution_count": 1,
   "id": "53fb1060",
   "metadata": {},
   "outputs": [],
   "source": [
    "from create_playlist import Playlist\n",
    "import os\n",
    "import random"
   ]
  },
  {
   "cell_type": "code",
   "execution_count": 2,
   "id": "a884491b",
   "metadata": {},
   "outputs": [],
   "source": [
    "\"\"\"\n",
    "Playlist:\n",
    "\n",
    "tree = XML Element Tree, contains Playlist Element. \n",
    "Playlist Element contains paths to video files, and thus is what is edited to structure playlists\n",
    "Videos added to playlist XML via add_track(path_to_track) method call\n",
    "\n",
    "add_track() - Adds path to track file to XML\n",
    "\n",
    "get_playlist() - Returns playlist with tracks added\n",
    "\"\"\"\n",
    "class Playlist:\n",
    "    \"\"\"Build xml playlist.\"\"\"\n",
    "\n",
    "    def __init__(self):\n",
    "        #Defines basic tree structure.\n",
    "        self.playlist = xml.Element('playlist')\n",
    "        self.tree = xml.ElementTree(self.playlist)\n",
    "        self.playlist.set('xmlns','http://xspf.org/ns/0/')\n",
    "        self.playlist.set('xmlns:vlc','http://www.videolan.org/vlc/playlist/ns/0/')\n",
    "        self.playlist.set('version', '1')\n",
    "\n",
    "        self.title = xml.Element('title')\n",
    "        self.playlist.append(self.title)\n",
    "        self.title.text = 'Playlist'\n",
    "\n",
    "        self.trackList = xml.Element('trackList')\n",
    "        self.playlist.append(self.trackList)\n",
    "\n",
    "    def add_track(self, path):\n",
    "        #Add tracks to xml tree (within trackList).\n",
    "        track = xml.Element('track')\n",
    "        location = xml.Element('location')\n",
    "        location.text = path\n",
    "        track.append(location)\n",
    "        self.trackList.append(track)\n",
    "\n",
    "    def get_playlist(self):\n",
    "        #Return complete playlist with tracks.\n",
    "        return self.playlist"
   ]
  },
  {
   "cell_type": "code",
   "execution_count": 3,
   "id": "5693ffa0",
   "metadata": {},
   "outputs": [
    {
     "data": {
      "text/plain": [
       "\"\\nVideos:\\n\\nUtility object for producing videos lists. Does not contain data.\\n\\nremove_nonvideo_files() - Takes list of files and removes filenames with wrong extensions\\nedit_paths() - Takes list of video files and formats them with path and prefix as req'd by playlist file\\nget_videos() - Returns list of video files in directory\\n\""
      ]
     },
     "execution_count": 3,
     "metadata": {},
     "output_type": "execute_result"
    }
   ],
   "source": [
    "\"\"\"\n",
    "Videos:\n",
    "\n",
    "Utility object for producing videos lists. Does not contain data.\n",
    "\n",
    "remove_nonvideo_files() - Takes list of files and removes filenames with wrong extensions\n",
    "edit_paths() - Takes list of video files and formats them with path and prefix as req'd by playlist file\n",
    "get_videos() - Returns list of video files in directory\n",
    "\"\"\""
   ]
  },
  {
   "cell_type": "code",
   "execution_count": 4,
   "id": "60cd6c40",
   "metadata": {},
   "outputs": [
    {
     "data": {
      "text/plain": [
       "'\\nLibrary Usage Pattern:\\n\\nCreate Playlist and Videos objects. Get list of video files using get_videos() and format the paths using edit_paths().\\n\\nLoop through paths and use add_track() to add the paths to each track to the playlist XML of the Playlist Object.\\n\\nWould want to break files into series, or have subclass of Videos, called Series. Need some structure to be able to pull from \\nin sequential order but from each stream randomly. Probably want to ignore the Videos Class, create my own XML producing Class\\n'"
      ]
     },
     "execution_count": 4,
     "metadata": {},
     "output_type": "execute_result"
    }
   ],
   "source": [
    "\"\"\"\n",
    "Library Usage Pattern:\n",
    "\n",
    "Create Playlist and Videos objects. Get list of video files using get_videos() and format the paths using edit_paths().\n",
    "\n",
    "Loop through paths and use add_track() to add the paths to each track to the playlist XML of the Playlist Object.\n",
    "\n",
    "Would want to break files into series, or have subclass of Videos, called Series. Need some structure to be able to pull from \n",
    "in sequential order but from each stream randomly. Probably want to ignore the Videos Class, create my own XML producing Class\n",
    "\"\"\""
   ]
  },
  {
   "cell_type": "code",
   "execution_count": 5,
   "id": "8e10d37a",
   "metadata": {},
   "outputs": [],
   "source": [
    "class Series:\n",
    "    \"\"\"Manages the video files for a group of related sequential media files\"\"\"\n",
    "    def __init__(self, series_dir=None):\n",
    "        self.files = []\n",
    "        if series_dir: \n",
    "            self.collect_files(series_dir)\n",
    "        \n",
    "    def remove_nonvideo_files(self, file_list):\n",
    "    #Removes files whose extension is not mentioned in ext_list from list of files.\n",
    "        ext_list = ['.mp4', '.mkv', '.avi', '.flv', '.mov', '.wmv', '.vob', '.mpg','.3gp', '.m4v']\n",
    "        for index, file_name in enumerate(file_list[:]):\n",
    "            if file_name.endswith(tuple(ext_list)) or file_name.endswith(tuple(ext.upper() for ext in ext_list)):\n",
    "                pass\n",
    "            else:\n",
    "                file_list.remove(file_name)\n",
    "        return file_list\n",
    "    \n",
    "    def get_edited_paths(self):\n",
    "    #Add path and prefix to files as required in vlc playlist file. \n",
    "        video_files = self.files\n",
    "        for index in range(len(video_files)):\n",
    "            video_files[index] =( \n",
    "            'file:///' + os.path.join(video_files[index])).replace('\\\\','/')\n",
    "        return video_files\n",
    "    \n",
    "    def collect_files(self, direc, check_subdirs = True):\n",
    "        os.chdir(direc)\n",
    "        if check_subdirs == True:\n",
    "            pathlist = [os.getcwd()]\n",
    "            for root, dirs, files in os.walk(os.getcwd()):\n",
    "                for name in dirs:\n",
    "                    subdir_path = os.path.join(root, name)\n",
    "                    if subdir_path.find('\\.') != -1:\n",
    "                        pass\n",
    "                    else:\n",
    "                        pathlist.append(subdir_path)\n",
    "            for path in pathlist:\n",
    "                all_files = os.listdir(path)\n",
    "                for f in self.remove_nonvideo_files(all_files):\n",
    "                    location = path + '\\\\' + f\n",
    "                    self.files.append(location)\n",
    "        else:\n",
    "            all_files = os.listdir(path)\n",
    "            for f in self.remove_nonvideo_files(all_files):\n",
    "                location = os.getcwd() + '\\\\' + f\n",
    "                self.files.append(location)\n",
    "        \n",
    "                    "
   ]
  },
  {
   "cell_type": "code",
   "execution_count": 6,
   "id": "f772ef92",
   "metadata": {},
   "outputs": [],
   "source": [
    "# Add Series name, directory association"
   ]
  },
  {
   "cell_type": "code",
   "execution_count": 7,
   "id": "84090cb1",
   "metadata": {},
   "outputs": [],
   "source": [
    "class SeriesPlaylistRandomizer:\n",
    "    \"\"\"Class to randomly choose and produce an ordered Playlist\n",
    "    from 1+ series in a random order, but sequential within each series\"\"\"\n",
    "    def __init__(self):\n",
    "        self.seriesPlaceDict = dict()\n",
    "        self.seriesDict = dict()\n",
    "        self.seriesLengthDict = dict()\n",
    "    \n",
    "    def add_series(self, seriesName:str, series:Series):\n",
    "        self.seriesDict[seriesName] = series\n",
    "        self.seriesPlaceDict[seriesName] = 0\n",
    "        self.seriesLengthDict[seriesName] = len(series.files)\n",
    "    \n",
    "    def _increment_series_place(self, seriesName):\n",
    "        self.seriesPlaceDict[seriesName] += 1\n",
    "    \n",
    "    def _get_next_track(self, seriesName):\n",
    "        # Get filepath for next track in series according to the current series place\n",
    "        return self.seriesDict[seriesName].files[self.seriesPlaceDict[seriesName]]\n",
    "    \n",
    "    def get_randomized_playlist(self):\n",
    "        # Randomly choose from each series until seriesPlace = seriesLength\n",
    "        playlist_videos_xml = []\n",
    "        finished_series = []\n",
    "        while finished_series != list(self.seriesDict.keys()):\n",
    "            series = random.choice(list(self.seriesDict.keys()))\n",
    "            if series in finished_series:\n",
    "                continue\n",
    "            else:\n",
    "                next_track = self._get_next_track(series)\n",
    "                edited_paths = next_track.get_edited_paths()\n",
    "                playlist_videos_xml.append(edited_paths)\n",
    "                self._increment_series_place(series)\n",
    "                if self.seriesPlaceDict[series] == self.seriesLengthDict[series]:\n",
    "                    finished_series.append(series)\n",
    "        return playlist_videos_xml"
   ]
  },
  {
   "cell_type": "code",
   "execution_count": 8,
   "id": "c9861c09",
   "metadata": {},
   "outputs": [],
   "source": [
    "series_1 = Series()\n",
    "series_1.collect_files(r'C:\\Users\\Cameron Phillips\\Downloads\\Movies\\[CBM] Cowboy Bebop 1-26 Complete (Dual Audio) [BDRip-720p-8bit]')"
   ]
  },
  {
   "cell_type": "code",
   "execution_count": 9,
   "id": "ff34a253",
   "metadata": {},
   "outputs": [],
   "source": [
    "# series_2 = Series()\n",
    "# series_2.collect_files('sample dir 2')\n",
    "# series_2.remove_nonvideo_files()"
   ]
  },
  {
   "cell_type": "code",
   "execution_count": 10,
   "id": "31fcf0aa",
   "metadata": {},
   "outputs": [
    {
     "ename": "AttributeError",
     "evalue": "'str' object has no attribute 'get_edited_paths'",
     "output_type": "error",
     "traceback": [
      "\u001b[1;31m---------------------------------------------------------------------------\u001b[0m",
      "\u001b[1;31mAttributeError\u001b[0m                            Traceback (most recent call last)",
      "\u001b[1;32m<ipython-input-10-ab4cec365818>\u001b[0m in \u001b[0;36m<module>\u001b[1;34m\u001b[0m\n\u001b[0;32m      1\u001b[0m \u001b[0mplaylist1\u001b[0m \u001b[1;33m=\u001b[0m \u001b[0mSeriesPlaylistRandomizer\u001b[0m\u001b[1;33m(\u001b[0m\u001b[1;33m)\u001b[0m\u001b[1;33m\u001b[0m\u001b[1;33m\u001b[0m\u001b[0m\n\u001b[0;32m      2\u001b[0m \u001b[0mplaylist1\u001b[0m\u001b[1;33m.\u001b[0m\u001b[0madd_series\u001b[0m\u001b[1;33m(\u001b[0m\u001b[1;34m'Cowboy Bebop'\u001b[0m\u001b[1;33m,\u001b[0m\u001b[0mseries_1\u001b[0m\u001b[1;33m)\u001b[0m\u001b[1;33m\u001b[0m\u001b[1;33m\u001b[0m\u001b[0m\n\u001b[1;32m----> 3\u001b[1;33m \u001b[0mxml\u001b[0m \u001b[1;33m=\u001b[0m \u001b[0mplaylist1\u001b[0m\u001b[1;33m.\u001b[0m\u001b[0mget_randomized_playlist\u001b[0m\u001b[1;33m(\u001b[0m\u001b[1;33m)\u001b[0m\u001b[1;33m\u001b[0m\u001b[1;33m\u001b[0m\u001b[0m\n\u001b[0m",
      "\u001b[1;32m<ipython-input-7-d44357773375>\u001b[0m in \u001b[0;36mget_randomized_playlist\u001b[1;34m(self)\u001b[0m\n\u001b[0;32m     29\u001b[0m             \u001b[1;32melse\u001b[0m\u001b[1;33m:\u001b[0m\u001b[1;33m\u001b[0m\u001b[1;33m\u001b[0m\u001b[0m\n\u001b[0;32m     30\u001b[0m                 \u001b[0mnext_track\u001b[0m \u001b[1;33m=\u001b[0m \u001b[0mself\u001b[0m\u001b[1;33m.\u001b[0m\u001b[0m_get_next_track\u001b[0m\u001b[1;33m(\u001b[0m\u001b[0mseries\u001b[0m\u001b[1;33m)\u001b[0m\u001b[1;33m\u001b[0m\u001b[1;33m\u001b[0m\u001b[0m\n\u001b[1;32m---> 31\u001b[1;33m                 \u001b[0medited_paths\u001b[0m \u001b[1;33m=\u001b[0m \u001b[0mnext_track\u001b[0m\u001b[1;33m.\u001b[0m\u001b[0mget_edited_paths\u001b[0m\u001b[1;33m(\u001b[0m\u001b[1;33m)\u001b[0m\u001b[1;33m\u001b[0m\u001b[1;33m\u001b[0m\u001b[0m\n\u001b[0m\u001b[0;32m     32\u001b[0m                 \u001b[0mplaylist_videos_xml\u001b[0m\u001b[1;33m.\u001b[0m\u001b[0mappend\u001b[0m\u001b[1;33m(\u001b[0m\u001b[0medited_paths\u001b[0m\u001b[1;33m)\u001b[0m\u001b[1;33m\u001b[0m\u001b[1;33m\u001b[0m\u001b[0m\n\u001b[0;32m     33\u001b[0m                 \u001b[0mself\u001b[0m\u001b[1;33m.\u001b[0m\u001b[0m_increment_series_place\u001b[0m\u001b[1;33m(\u001b[0m\u001b[0mseries\u001b[0m\u001b[1;33m)\u001b[0m\u001b[1;33m\u001b[0m\u001b[1;33m\u001b[0m\u001b[0m\n",
      "\u001b[1;31mAttributeError\u001b[0m: 'str' object has no attribute 'get_edited_paths'"
     ]
    }
   ],
   "source": [
    "playlist1 = SeriesPlaylistRandomizer()\n",
    "playlist1.add_series('Cowboy Bebop',series_1)\n",
    "xml = playlist1.get_randomized_playlist()"
   ]
  },
  {
   "cell_type": "code",
   "execution_count": null,
   "id": "cbe59141",
   "metadata": {},
   "outputs": [],
   "source": [
    "print(xml)"
   ]
  },
  {
   "cell_type": "code",
   "execution_count": null,
   "id": "bcf6af92",
   "metadata": {},
   "outputs": [],
   "source": [
    "# playlist2 = SeriesPlaylistRandomizer()\n",
    "# playlist2.add_series('series 2',series_2)\n",
    "# playlist2.get"
   ]
  }
 ],
 "metadata": {
  "kernelspec": {
   "display_name": "Python 3",
   "language": "python",
   "name": "python3"
  },
  "language_info": {
   "codemirror_mode": {
    "name": "ipython",
    "version": 3
   },
   "file_extension": ".py",
   "mimetype": "text/x-python",
   "name": "python",
   "nbconvert_exporter": "python",
   "pygments_lexer": "ipython3",
   "version": "3.8.8"
  }
 },
 "nbformat": 4,
 "nbformat_minor": 5
}
